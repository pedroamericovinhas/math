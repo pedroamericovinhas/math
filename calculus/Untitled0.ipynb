{
  "nbformat": 4,
  "nbformat_minor": 0,
  "metadata": {
    "colab": {
      "name": "Untitled0.ipynb",
      "provenance": [],
      "collapsed_sections": [],
      "authorship_tag": "ABX9TyMTxKiETTStkfcVXOKfKXp8",
      "include_colab_link": true
    },
    "kernelspec": {
      "name": "python3",
      "display_name": "Python 3"
    },
    "language_info": {
      "name": "python"
    }
  },
  "cells": [
    {
      "cell_type": "markdown",
      "metadata": {
        "id": "view-in-github",
        "colab_type": "text"
      },
      "source": [
        "<a href=\"https://colab.research.google.com/github/pedroamericovinhas/math/blob/main/calculus/Untitled0.ipynb\" target=\"_parent\"><img src=\"https://colab.research.google.com/assets/colab-badge.svg\" alt=\"Open In Colab\"/></a>"
      ]
    },
    {
      "cell_type": "markdown",
      "source": [
        "Given a function $P(x)$, we can approximate its [Riemann Integral](https://en.wikipedia.org/wiki/Riemann_integral) using python."
      ],
      "metadata": {
        "id": "7cdnyWohGrj9"
      }
    },
    {
      "cell_type": "code",
      "execution_count": 1,
      "metadata": {
        "id": "unP4WtW3GnKC"
      },
      "outputs": [],
      "source": [
        "def P(x):\n",
        "  return -0.5*x*x + 10"
      ]
    },
    {
      "cell_type": "markdown",
      "source": [
        "A first rough aproximation could be defined by summing integer values inside the interval of $f$ we want to integrate.\n",
        "\n",
        "From the [wikipedia article on the Euler-Maclaurin formula](https://https://en.wikipedia.org/wiki/Euler%E2%80%93Maclaurin_formula):\n",
        ">If $m$ and $n$ are natural numbers and $f(x)$ is a real or complex valued continuous function for real numbers $x$ in the interval $[m,n]$, then the integral\n",
        "> $$I=\\int^n_mf(x)\\;dx$$\n",
        "> can be approximated by the sum\n",
        "> $$S = f(m+1) + \\cdots + f(n-1) + f(n)$$\n",
        "\n",
        "Let's code this!"
      ],
      "metadata": {
        "id": "Ai_e3iICN8AG"
      }
    },
    {
      "cell_type": "code",
      "source": [
        "def riemann_sum(f,m,n):\n",
        "  # m, n ∈ N\n",
        "  res = sum(f(x+1) for x in range(m,n))\n",
        "  # f(m+1) + ⋯ + f(n-1) + f(n)\n",
        "  return res\n",
        "\n",
        "riemann_sum(P,0,4) # Actual value of integral: 29.333…"
      ],
      "metadata": {
        "colab": {
          "base_uri": "https://localhost:8080/"
        },
        "id": "uOrRxNApQX6s",
        "outputId": "e28df590-03a2-4f2f-aeb8-5c00db5132bc"
      },
      "execution_count": 2,
      "outputs": [
        {
          "output_type": "execute_result",
          "data": {
            "text/plain": [
              "25.0"
            ]
          },
          "metadata": {},
          "execution_count": 2
        }
      ]
    },
    {
      "cell_type": "markdown",
      "source": [
        "As you could've probably guessed, it's a pretty bad approximation; though it hints at how we might proceed: reducing the step size.\n",
        "\n",
        "`range()` doesn't accept non-integer step size, so we'll have to create a new method to do this. Let's say we wanted $0.1$ to be our step size. We could calculate\n",
        "\n",
        "$f(a+0.1) + f(a+0.2) + \\cdots + f(b-0.1) + f(b)$\n",
        "\n",
        "And get the exact result we want! \n",
        "\n",
        "...That is, if $\\; b-a \\;$ is a clean multiple of $0.1$. Say our bounds are $[0.2,\\; 0.45]$. In this case, we run into a problem:\n",
        "\n",
        "$f(0.3) + f(0.4) \\; + \\;?$\n",
        "\n",
        "Suddenly, we've lost 20% of our interval. However, this lost interval tends to decrease as we decrease our step size. If it was $0.01$ or $0.001$, we would only notice a difference in very small intervals. In fact, recall that an *actual* integral would have this step size approaching $0$, so the last dropped term would be completely negligible. One way to code this is:\n",
        ">```python\n",
        "(f(a + x*dx) for x in range(0, (b-a) // dx))\n",
        ">```\n",
        "\n",
        "where $dx$ stands for our (very small) step size.\n",
        "\n",
        "Let's define this $dx$ variable globally:"
      ],
      "metadata": {
        "id": "HiSPl77tar3T"
      }
    },
    {
      "cell_type": "code",
      "source": [
        "dx = 0.01"
      ],
      "metadata": {
        "id": "K2tf5xCJcJXj"
      },
      "execution_count": 3,
      "outputs": []
    },
    {
      "cell_type": "markdown",
      "source": [
        "At the end of our summing process, we'll have to multiply the result by $dx$. This is in order to compensate for the smaller step size, and can be geometrically explained in the following manner:\n",
        "\n",
        "> Our process involves summing multiple rectangles under the function $f$. These rectangles have height $f(x)$ and width $dx$ (*that's how we defined $dx$!*). \n",
        ">\n",
        ">>$Area = h_1⋅dx + h_2⋅dx + \\cdots + h_{n-1}⋅dx + h_n⋅dx $\n",
        "> \n",
        "> Where $h_i$ are the different heights of the rectangles.\n",
        ">\n",
        "> Using the distributive property of multiplication, we can pull those $dx$ terms from out of the sum\n",
        ">\n",
        ">>$Area = dx(h_1 + h_2 + \\cdots + h_{n-1} + h_n)$ \n",
        "\n",
        "Of course, we implicitly did this in our first approximation, where $\\; dx = 1$.\n",
        "\n",
        "Putting it all together, we get:"
      ],
      "metadata": {
        "id": "KvKcO6R7c3cM"
      }
    },
    {
      "cell_type": "code",
      "source": [
        "dx = 0.01\n",
        "def integral(f,a,b):\n",
        "  res = sum(f(a+x*dx) for x in range(0, int((b-a)//dx)))\n",
        "  return res * dx\n",
        "integral(P, 0, 4)"
      ],
      "metadata": {
        "colab": {
          "base_uri": "https://localhost:8080/"
        },
        "id": "GV97wcXZgXGy",
        "outputId": "bdc042aa-95d8-4af5-cb7e-8b7aecb33567"
      },
      "execution_count": 4,
      "outputs": [
        {
          "output_type": "execute_result",
          "data": {
            "text/plain": [
              "29.3529005"
            ]
          },
          "metadata": {},
          "execution_count": 4
        }
      ]
    },
    {
      "cell_type": "markdown",
      "source": [
        "That's much better! And it only gets better for smaller values of $dx$. For comparison's sake, here's a table with various values of $dx$:\n",
        "\n",
        "|$dx$|Result\n",
        "|---|---|\n",
        "|0.1|29.490499999999987|\n",
        "|0.05|29.422562499999998|\n",
        "|0.01|29.3529005|\n",
        "|0.005|29.343225062499997|\n",
        "|0.001|29.335329000500092|\n",
        "|0.0001|29.333533290000368|\n",
        "|0.0000001|29.3333337333407|\n",
        "\n",
        "\n",
        "---\n",
        "\n",
        "\n",
        "That's cool and all, but let's do something even cooler with integrals: estimating the value of π!\n",
        "\n",
        "You may or may not be familiar with this formula:\n",
        "\n",
        "$$\\pi = 4\\int_0^1\\frac{1}{1+x^2}\\; dx$$\n",
        "\n",
        "We can very easily calculate this using our integral function, with the help of python's `lambda` functions. We can also afford to use much smaller values of $dx$, given our relatively small integration bounds."
      ],
      "metadata": {
        "id": "Qd39R8Efq3qo"
      }
    },
    {
      "cell_type": "code",
      "source": [
        "dx = 0.0000001\n",
        "pi = 4 * integral(lambda x : 1/(1+x*x), 0, 1)\n",
        "pi"
      ],
      "metadata": {
        "colab": {
          "base_uri": "https://localhost:8080/"
        },
        "id": "uKm_V26Irjtq",
        "outputId": "616412b7-e635-445a-bb8d-0831a40b08eb"
      },
      "execution_count": 5,
      "outputs": [
        {
          "output_type": "execute_result",
          "data": {
            "text/plain": [
              "3.141592753589987"
            ]
          },
          "metadata": {},
          "execution_count": 5
        }
      ]
    },
    {
      "cell_type": "markdown",
      "source": [
        "That's only 0.000003% bigger than π."
      ],
      "metadata": {
        "id": "eOjhXuYSxpHb"
      }
    }
  ]
}